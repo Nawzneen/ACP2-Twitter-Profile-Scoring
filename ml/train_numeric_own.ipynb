{
 "cells": [
  {
   "cell_type": "code",
   "execution_count": 1,
   "metadata": {},
   "outputs": [],
   "source": [
    "import pandas as pd\n",
    "import os\n",
    "from subprocess import call\n",
    "from IPython.display import Image\n",
    "from sklearn.tree import export_graphviz\n",
    "from sklearn.model_selection import train_test_split\n",
    "from sklearn.ensemble import RandomForestClassifier\n",
    "from sklearn.metrics import (mean_squared_error, mean_absolute_error, mean_absolute_percentage_error,\n",
    "                             mean_squared_log_error, median_absolute_error)\n",
    "from sklearn.preprocessing import StandardScaler\n",
    "from dataset_reader import get_validated_dataset"
   ]
  },
  {
   "cell_type": "code",
   "execution_count": 2,
   "metadata": {},
   "outputs": [
    {
     "name": "stdout",
     "output_type": "stream",
     "text": [
      "Filtered out 268 profiles\n",
      "Dataset size: 5130 rows\n",
      "Columns: ['verified', 'name_len', 'followers_count', 'following_count', 'tweet_count', 'listed_count', 'has_url', 'created_at', 'desc_len', 'desc_words', 'tweet.length_mean', 'tweet.words_mean', 'tweet.retweets_mean', 'tweet.replies_mean', 'tweet.likes_mean', 'tweet.quotes_mean', 'tweet.mentions_mean', 'tweet.retweets_percentage']\n"
     ]
    }
   ],
   "source": [
    "# Load dataset\n",
    "df = get_validated_dataset()\n",
    "print(f\"Dataset size: {df.shape[0]} rows\")\n",
    "print(f\"Columns: {list(df.columns)}\")"
   ]
  },
  {
   "cell_type": "code",
   "execution_count": 3,
   "metadata": {},
   "outputs": [
    {
     "name": "stdout",
     "output_type": "stream",
     "text": [
      "Training data rows: 3847\n",
      "Test data rows: 1283\n"
     ]
    }
   ],
   "source": [
    "# Split dataset for test and train sets\n",
    "dataset_df = df.dropna()\n",
    "\n",
    "train_df, test_df = train_test_split(dataset_df, train_size=0.75)\n",
    "y_variable = \"followers_count\"\n",
    "train_x = train_df.drop(y_variable, axis=1)\n",
    "test_x = test_df.drop(y_variable, axis=1)\n",
    "train_y = train_df[y_variable].astype(int)\n",
    "test_y = test_df[y_variable].astype(int)\n",
    "\n",
    "print(f\"Training data rows: {train_df.shape[0]}\")\n",
    "print(f\"Test data rows: {test_df.shape[0]}\")"
   ]
  },
  {
   "cell_type": "code",
   "execution_count": 4,
   "metadata": {},
   "outputs": [
    {
     "name": "stdout",
     "output_type": "stream",
     "text": [
      "Mean squared error: 6909703276667.244\n",
      "Mean squared log error: 6.2909361638811205\n",
      "Median absolute error: 8738.0\n",
      "Mean absolute error: 468052.2416212003\n",
      "Mean absolute percentage error 1.7157499472266353\n"
     ]
    }
   ],
   "source": [
    "# Train model\n",
    "model = RandomForestClassifier(n_estimators=10)\n",
    "\n",
    "scaler = StandardScaler()\n",
    "train_x_scaled = scaler.fit_transform(train_x)\n",
    "test_x_scaled = scaler.transform(test_x)\n",
    "\n",
    "model.fit(train_x_scaled, train_y)\n",
    "prediction = model.predict(test_x_scaled)\n",
    "test_y_np = test_y.to_numpy()\n",
    "test_mse = mean_squared_error(test_y_np, prediction)\n",
    "test_msle = mean_squared_log_error(test_y_np, prediction)\n",
    "test_mdae = median_absolute_error(test_y_np, prediction)\n",
    "test_mae = mean_absolute_error(test_y_np, prediction)\n",
    "test_mape = mean_absolute_percentage_error(test_y_np, prediction)\n",
    "\n",
    "print(f\"Mean squared error: {test_mse}\")\n",
    "print(f\"Mean squared log error: {test_msle}\")\n",
    "print(f\"Median absolute error: {test_mdae}\")\n",
    "print(f\"Mean absolute error: {test_mae}\")\n",
    "print(f\"Mean absolute percentage error {test_mape}\")"
   ]
  }
 ],
 "metadata": {
  "interpreter": {
   "hash": "9bf1a5cf4aff157dbe1350d0c2c26794d3fa2cf7cb44058364317892fb1e2f69"
  },
  "kernelspec": {
   "display_name": "Python 3.8.10 64-bit ('.venv': venv)",
   "language": "python",
   "name": "python3"
  },
  "language_info": {
   "codemirror_mode": {
    "name": "ipython",
    "version": 3
   },
   "file_extension": ".py",
   "mimetype": "text/x-python",
   "name": "python",
   "nbconvert_exporter": "python",
   "pygments_lexer": "ipython3",
   "version": "3.8.10"
  },
  "orig_nbformat": 4
 },
 "nbformat": 4,
 "nbformat_minor": 2
}
