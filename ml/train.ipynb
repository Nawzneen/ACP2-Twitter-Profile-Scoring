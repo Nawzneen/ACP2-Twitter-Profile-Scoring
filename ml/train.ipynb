{
 "cells": [
  {
   "cell_type": "code",
   "execution_count": 1,
   "metadata": {},
   "outputs": [],
   "source": [
    "import os\n",
    "import zipfile\n",
    "import pandas as pd\n",
    "from sklearn.model_selection import train_test_split\n",
    "from sklearn.ensemble import RandomForestClassifier\n",
    "from sklearn.metrics import accuracy_score"
   ]
  },
  {
   "cell_type": "code",
   "execution_count": 2,
   "metadata": {},
   "outputs": [
    {
     "name": "stdout",
     "output_type": "stream",
     "text": [
      "Dataset size: 20050 rows\n",
      "Columns: ['_unit_id', '_golden', '_unit_state', '_trusted_judgments', '_last_judgment_at', 'gender', 'gender:confidence', 'profile_yn', 'profile_yn:confidence', 'created', 'description', 'fav_number', 'gender_gold', 'link_color', 'name', 'profile_yn_gold', 'profileimage', 'retweet_count', 'sidebar_color', 'text', 'tweet_coord', 'tweet_count', 'tweet_created', 'tweet_id', 'tweet_location', 'user_timezone']\n"
     ]
    }
   ],
   "source": [
    "# Load dataset\n",
    "dataset_zip = os.path.join(\"data\", \"dataset.zip\")\n",
    "with zipfile.ZipFile(dataset_zip, 'r') as zip:\n",
    "    zip.extractall(\"data\")\n",
    "\n",
    "csv_path = os.path.join(\"data\", \"gender-classifier-DFE-791531.csv\")\n",
    "df = pd.read_csv(csv_path, sep=\",\", encoding=\"ISO-8859-1\")\n",
    "print(f\"Dataset size: {df.shape[0]} rows\")\n",
    "print(f\"Columns: {list(df.columns)}\")\n",
    "#print(df.head())"
   ]
  },
  {
   "cell_type": "code",
   "execution_count": 3,
   "metadata": {},
   "outputs": [
    {
     "name": "stdout",
     "output_type": "stream",
     "text": [
      "Training data rows: 8395\n",
      "Test data rows: 2799\n"
     ]
    }
   ],
   "source": [
    "# Split dataset for test and train sets\n",
    "df = df.dropna(subset=[\"fav_number\", \"tweet_count\", \"retweet_count\", \"gender\", \"name\", \"description\"])\n",
    "df = df[df.gender.isin([\"male\", \"female\"])]\n",
    "\n",
    "df[\"name_len\"] = df[\"name\"].str.len()\n",
    "df[\"desc_len\"] = df[\"description\"].str.len()\n",
    "df = df.drop([\"name\", \"description\"], axis=1)\n",
    "\n",
    "train_df, test_df = train_test_split(df)\n",
    "train_x = train_df[[\"fav_number\", \"retweet_count\", \"tweet_count\"]]\n",
    "test_x = test_df[[\"fav_number\", \"retweet_count\", \"tweet_count\"]]\n",
    "train_y = train_df[\"gender\"].astype(\"category\")\n",
    "test_y = test_df[\"gender\"].astype(\"category\")\n",
    "\n",
    "print(f\"Training data rows: {train_df.shape[0]}\")\n",
    "print(f\"Test data rows: {test_df.shape[0]}\")"
   ]
  },
  {
   "cell_type": "code",
   "execution_count": 4,
   "metadata": {},
   "outputs": [
    {
     "name": "stdout",
     "output_type": "stream",
     "text": [
      "['female' 'female' 'female' ... 'female' 'female' 'female']\n",
      "Accuracy: 0.55\n"
     ]
    }
   ],
   "source": [
    "# Train model\n",
    "model = RandomForestClassifier()\n",
    "model.fit(train_x, train_y)\n",
    "prediction = model.predict(test_x)\n",
    "print(prediction)\n",
    "acc = accuracy_score(test_y, prediction)\n",
    "print(f\"Accuracy: {acc:.2f}\")"
   ]
  }
 ],
 "metadata": {
  "interpreter": {
   "hash": "9bf1a5cf4aff157dbe1350d0c2c26794d3fa2cf7cb44058364317892fb1e2f69"
  },
  "kernelspec": {
   "display_name": "Python 3.8.10 64-bit ('.venv': venv)",
   "language": "python",
   "name": "python3"
  },
  "language_info": {
   "codemirror_mode": {
    "name": "ipython",
    "version": 3
   },
   "file_extension": ".py",
   "mimetype": "text/x-python",
   "name": "python",
   "nbconvert_exporter": "python",
   "pygments_lexer": "ipython3",
   "version": "3.8.10"
  },
  "orig_nbformat": 4
 },
 "nbformat": 4,
 "nbformat_minor": 2
}
