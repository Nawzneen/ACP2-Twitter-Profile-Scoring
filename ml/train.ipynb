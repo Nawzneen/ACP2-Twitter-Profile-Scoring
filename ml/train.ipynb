{
 "cells": [
  {
   "cell_type": "code",
   "execution_count": null,
   "metadata": {},
   "outputs": [],
   "source": [
    "import pandas as pd\n",
    "import os\n",
    "from subprocess import call\n",
    "from IPython.display import Image\n",
    "from sklearn.tree import export_graphviz\n",
    "from sklearn.model_selection import train_test_split\n",
    "from sklearn.ensemble import RandomForestClassifier\n",
    "from sklearn.metrics import accuracy_score\n",
    "from dataset_reader import read_dataset"
   ]
  },
  {
   "cell_type": "code",
   "execution_count": null,
   "metadata": {},
   "outputs": [],
   "source": [
    "# Load dataset\n",
    "df = read_dataset()\n",
    "print(f\"Dataset size: {df.shape[0]} rows\")\n",
    "print(f\"Columns: {list(df.columns)}\")"
   ]
  },
  {
   "cell_type": "code",
   "execution_count": null,
   "metadata": {},
   "outputs": [],
   "source": [
    "# Split dataset for test and train sets\n",
    "df = df.dropna(subset=[\"fav_number\", \"tweet_count\", \"retweet_count\", \"gender\", \"name\", \"description\"])\n",
    "df = df[df.gender.isin([\"male\", \"female\"])]\n",
    "\n",
    "df[\"name_len\"] = df[\"name\"].str.len()\n",
    "df[\"desc_len\"] = df[\"description\"].str.len()\n",
    "df = df.drop([\"name\", \"description\"], axis=1)\n",
    "\n",
    "train_df, test_df = train_test_split(df)\n",
    "feature_names = [\"fav_number\", \"tweet_count\", \"retweet_count\", \"name_len\", \"desc_len\"]\n",
    "train_x = train_df[feature_names]\n",
    "test_x = test_df[feature_names]\n",
    "train_y = train_df[\"gender\"].astype(\"category\")\n",
    "test_y = test_df[\"gender\"].astype(\"category\")\n",
    "\n",
    "print(f\"Training data rows: {train_df.shape[0]}\")\n",
    "print(f\"Test data rows: {test_df.shape[0]}\")"
   ]
  },
  {
   "cell_type": "code",
   "execution_count": null,
   "metadata": {},
   "outputs": [],
   "source": [
    "# Train model\n",
    "model = RandomForestClassifier()\n",
    "model.fit(train_x, train_y)\n",
    "prediction = model.predict(test_x)\n",
    "print(prediction)\n",
    "acc = accuracy_score(test_y, prediction)\n",
    "print(f\"Accuracy: {acc:.2f}\")"
   ]
  },
  {
   "cell_type": "code",
   "execution_count": null,
   "metadata": {},
   "outputs": [],
   "source": [
    "estimator = model.estimators_[5]\n",
    "\n",
    "tmp_dir = os.path.join(os.getcwd(), 'tmp')\n",
    "if not os.path.isdir(tmp_dir):\n",
    "    os.mkdir(tmp_dir)\n",
    "graph_file = os.path.join(tmp_dir, 'tree.dot')\n",
    "png_file = os.path.join(tmp_dir, 'tree.png')\n",
    "\n",
    "export_graphviz(estimator, out_file=graph_file, feature_names=feature_names,\n",
    "                class_names=['male', 'female'], rounded=True, proportion=False, precision=2, filled=True)\n",
    "\n",
    "call(['dot', '-Tpng', graph_file, '-o', png_file, '-Gdpi=600'])\n",
    "\n",
    "Image(filename=png_file)"
   ]
  }
 ],
 "metadata": {
  "interpreter": {
   "hash": "9bf1a5cf4aff157dbe1350d0c2c26794d3fa2cf7cb44058364317892fb1e2f69"
  },
  "kernelspec": {
   "display_name": "Python 3.8.10 64-bit ('.venv': venv)",
   "language": "python",
   "name": "python3"
  },
  "language_info": {
   "codemirror_mode": {
    "name": "ipython",
    "version": 3
   },
   "file_extension": ".py",
   "mimetype": "text/x-python",
   "name": "python",
   "nbconvert_exporter": "python",
   "pygments_lexer": "ipython3",
   "version": "3.8.10"
  },
  "orig_nbformat": 4
 },
 "nbformat": 4,
 "nbformat_minor": 2
}
